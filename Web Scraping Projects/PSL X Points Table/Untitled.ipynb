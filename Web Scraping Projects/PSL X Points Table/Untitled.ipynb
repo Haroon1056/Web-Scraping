{
 "cells": [
  {
   "cell_type": "code",
   "execution_count": 29,
   "id": "fc916219-8caf-45ad-b14e-a92380c9fd06",
   "metadata": {},
   "outputs": [],
   "source": [
    "import pandas as pd\n",
    "import requests\n",
    "from bs4 import BeautifulSoup"
   ]
  },
  {
   "cell_type": "code",
   "execution_count": 43,
   "id": "f24e24b1-4c01-41e0-9668-b97476ca82f8",
   "metadata": {},
   "outputs": [],
   "source": [
    "url = \"https://psl-t20.com/\""
   ]
  },
  {
   "cell_type": "code",
   "execution_count": 44,
   "id": "45be46b8-2a49-4194-aeeb-28e7d3275dbe",
   "metadata": {},
   "outputs": [
    {
     "name": "stdout",
     "output_type": "stream",
     "text": [
      "200\n"
     ]
    }
   ],
   "source": [
    "headers = {\n",
    "    \"User-Agent\": \"Mozilla/5.0 (Windows NT 10.0; Win64; x64) AppleWebKit/537.36 Chrome/120.0 Safari/537.36\"\n",
    "}\n",
    "\n",
    "web = requests.get(url, headers=headers)\n",
    "print(response.status_code)"
   ]
  },
  {
   "cell_type": "code",
   "execution_count": 46,
   "id": "11bddd26-c8d6-4d35-9b6a-8879e3901d08",
   "metadata": {},
   "outputs": [],
   "source": [
    "soup = BeautifulSoup(web.content, \"html.parser\")"
   ]
  },
  {
   "cell_type": "code",
   "execution_count": null,
   "id": "04d75f4a-8b35-48a6-bd16-1b8ff9aab116",
   "metadata": {},
   "outputs": [],
   "source": []
  },
  {
   "cell_type": "code",
   "execution_count": 52,
   "id": "fe665a94-5c70-4d0c-a6c3-cd2ebe625c4a",
   "metadata": {},
   "outputs": [],
   "source": [
    "table = soup.find(\"table\")"
   ]
  },
  {
   "cell_type": "code",
   "execution_count": 53,
   "id": "72925e74-9888-4cf8-91da-eb0f1d3aaf5c",
   "metadata": {
    "collapsed": true,
    "jupyter": {
     "outputs_hidden": true
    }
   },
   "outputs": [
    {
     "data": {
      "text/plain": [
       "<table cellpadding=\"0\" cellspacing=\"0\" width=\"100%\">\n",
       "<tbody>\n",
       "<tr>\n",
       "<td width=\"30%\"><strong>Teams</strong></td>\n",
       "<td align=\"right\" width=\"6%\"><strong>Mat</strong></td>\n",
       "<td align=\"right\" width=\"6%\"><strong>Won</strong></td>\n",
       "<td align=\"right\" width=\"6%\"><strong>Lost</strong></td>\n",
       "<td align=\"right\" width=\"6%\"><strong>Tied</strong></td>\n",
       "<td align=\"right\" nowrap=\"nowrap\" width=\"6%\"><strong>No Result</strong></td>\n",
       "<td align=\"right\" width=\"6%\"><strong>Aban</strong></td>\n",
       "<td align=\"right\" nowrap=\"nowrap\" width=\"6%\"><strong>Bonus Pts</strong></td>\n",
       "<td align=\"right\" width=\"6%\"><strong>Points</strong></td>\n",
       "<td align=\"right\" nowrap=\"nowrap\" width=\"6%\"><strong>Net RR</strong></td>\n",
       "</tr>\n",
       "<tr>\n",
       "<td>Quetta Gladiators</td>\n",
       "<td align=\"right\">10</td>\n",
       "<td align=\"right\">7</td>\n",
       "<td align=\"right\">2</td>\n",
       "<td align=\"right\">0</td>\n",
       "<td align=\"right\">1</td>\n",
       "<td align=\"right\">0</td>\n",
       "<td align=\"right\">0</td>\n",
       "<td align=\"right\">15</td>\n",
       "<td align=\"right\">1.393</td>\n",
       "</tr>\n",
       "<tr>\n",
       "<td>Islamabad United</td>\n",
       "<td align=\"right\">10</td>\n",
       "<td align=\"right\">6</td>\n",
       "<td align=\"right\">4</td>\n",
       "<td align=\"right\">0</td>\n",
       "<td align=\"right\">0</td>\n",
       "<td align=\"right\">0</td>\n",
       "<td align=\"right\">0</td>\n",
       "<td align=\"right\">12</td>\n",
       "<td align=\"right\">0.372</td>\n",
       "</tr>\n",
       "<tr>\n",
       "<td>Karachi Kings</td>\n",
       "<td align=\"right\">10</td>\n",
       "<td align=\"right\">6</td>\n",
       "<td align=\"right\">4</td>\n",
       "<td align=\"right\">0</td>\n",
       "<td align=\"right\">0</td>\n",
       "<td align=\"right\">0</td>\n",
       "<td align=\"right\">0</td>\n",
       "<td align=\"right\">12</td>\n",
       "<td align=\"right\">0.049</td>\n",
       "</tr>\n",
       "<tr>\n",
       "<td>Lahore Qalandars</td>\n",
       "<td align=\"right\">10</td>\n",
       "<td align=\"right\">5</td>\n",
       "<td align=\"right\">4</td>\n",
       "<td align=\"right\">0</td>\n",
       "<td align=\"right\">1</td>\n",
       "<td align=\"right\">0</td>\n",
       "<td align=\"right\">0</td>\n",
       "<td align=\"right\">11</td>\n",
       "<td align=\"right\">1.036</td>\n",
       "</tr>\n",
       "<tr>\n",
       "<td>Peshawar Zalmi</td>\n",
       "<td align=\"right\">10</td>\n",
       "<td align=\"right\">4</td>\n",
       "<td align=\"right\">6</td>\n",
       "<td align=\"right\">0</td>\n",
       "<td align=\"right\">0</td>\n",
       "<td align=\"right\">0</td>\n",
       "<td align=\"right\">0</td>\n",
       "<td align=\"right\">8</td>\n",
       "<td align=\"right\">-0.293</td>\n",
       "</tr>\n",
       "<tr>\n",
       "<td>Multan Sultans</td>\n",
       "<td align=\"right\">10</td>\n",
       "<td align=\"right\">1</td>\n",
       "<td align=\"right\">9</td>\n",
       "<td align=\"right\">0</td>\n",
       "<td align=\"right\">0</td>\n",
       "<td align=\"right\">0</td>\n",
       "<td align=\"right\">0</td>\n",
       "<td align=\"right\">2</td>\n",
       "<td align=\"right\">-2.449</td>\n",
       "</tr>\n",
       "</tbody>\n",
       "</table>"
      ]
     },
     "execution_count": 53,
     "metadata": {},
     "output_type": "execute_result"
    }
   ],
   "source": [
    "table"
   ]
  },
  {
   "cell_type": "code",
   "execution_count": null,
   "id": "36608967-8386-4a4e-a2b6-cc42fe72ee9c",
   "metadata": {},
   "outputs": [],
   "source": []
  },
  {
   "cell_type": "code",
   "execution_count": null,
   "id": "e9a39e46-9a25-4935-a546-e9425d72de8e",
   "metadata": {},
   "outputs": [],
   "source": []
  },
  {
   "cell_type": "code",
   "execution_count": 84,
   "id": "363a2ac5-02d0-4d2a-b1dc-0af13d7ce4e4",
   "metadata": {},
   "outputs": [],
   "source": [
    "rows = table.find_all(\"tr\")[1:]"
   ]
  },
  {
   "cell_type": "code",
   "execution_count": 85,
   "id": "46dc8633-57ed-4e83-89b1-17519e47d2a6",
   "metadata": {},
   "outputs": [],
   "source": [
    "all_rows = []\n",
    "\n",
    "for i in rows:\n",
    "    data = i.find_all(\"td\")\n",
    "    row = [td.text.strip() for td in data]\n",
    "    all_rows.append(row)"
   ]
  },
  {
   "cell_type": "code",
   "execution_count": 87,
   "id": "44547535-f203-4311-ab4e-c42bc02efeb4",
   "metadata": {},
   "outputs": [
    {
     "data": {
      "text/plain": [
       "[<tr>\n",
       " <td>Quetta Gladiators</td>\n",
       " <td align=\"right\">10</td>\n",
       " <td align=\"right\">7</td>\n",
       " <td align=\"right\">2</td>\n",
       " <td align=\"right\">0</td>\n",
       " <td align=\"right\">1</td>\n",
       " <td align=\"right\">0</td>\n",
       " <td align=\"right\">0</td>\n",
       " <td align=\"right\">15</td>\n",
       " <td align=\"right\">1.393</td>\n",
       " </tr>,\n",
       " <tr>\n",
       " <td>Islamabad United</td>\n",
       " <td align=\"right\">10</td>\n",
       " <td align=\"right\">6</td>\n",
       " <td align=\"right\">4</td>\n",
       " <td align=\"right\">0</td>\n",
       " <td align=\"right\">0</td>\n",
       " <td align=\"right\">0</td>\n",
       " <td align=\"right\">0</td>\n",
       " <td align=\"right\">12</td>\n",
       " <td align=\"right\">0.372</td>\n",
       " </tr>,\n",
       " <tr>\n",
       " <td>Karachi Kings</td>\n",
       " <td align=\"right\">10</td>\n",
       " <td align=\"right\">6</td>\n",
       " <td align=\"right\">4</td>\n",
       " <td align=\"right\">0</td>\n",
       " <td align=\"right\">0</td>\n",
       " <td align=\"right\">0</td>\n",
       " <td align=\"right\">0</td>\n",
       " <td align=\"right\">12</td>\n",
       " <td align=\"right\">0.049</td>\n",
       " </tr>,\n",
       " <tr>\n",
       " <td>Lahore Qalandars</td>\n",
       " <td align=\"right\">10</td>\n",
       " <td align=\"right\">5</td>\n",
       " <td align=\"right\">4</td>\n",
       " <td align=\"right\">0</td>\n",
       " <td align=\"right\">1</td>\n",
       " <td align=\"right\">0</td>\n",
       " <td align=\"right\">0</td>\n",
       " <td align=\"right\">11</td>\n",
       " <td align=\"right\">1.036</td>\n",
       " </tr>,\n",
       " <tr>\n",
       " <td>Peshawar Zalmi</td>\n",
       " <td align=\"right\">10</td>\n",
       " <td align=\"right\">4</td>\n",
       " <td align=\"right\">6</td>\n",
       " <td align=\"right\">0</td>\n",
       " <td align=\"right\">0</td>\n",
       " <td align=\"right\">0</td>\n",
       " <td align=\"right\">0</td>\n",
       " <td align=\"right\">8</td>\n",
       " <td align=\"right\">-0.293</td>\n",
       " </tr>,\n",
       " <tr>\n",
       " <td>Multan Sultans</td>\n",
       " <td align=\"right\">10</td>\n",
       " <td align=\"right\">1</td>\n",
       " <td align=\"right\">9</td>\n",
       " <td align=\"right\">0</td>\n",
       " <td align=\"right\">0</td>\n",
       " <td align=\"right\">0</td>\n",
       " <td align=\"right\">0</td>\n",
       " <td align=\"right\">2</td>\n",
       " <td align=\"right\">-2.449</td>\n",
       " </tr>]"
      ]
     },
     "execution_count": 87,
     "metadata": {},
     "output_type": "execute_result"
    }
   ],
   "source": [
    "rows"
   ]
  },
  {
   "cell_type": "code",
   "execution_count": null,
   "id": "53845ae8-9f4b-4e3c-8e72-e948f7b9c6f5",
   "metadata": {},
   "outputs": [],
   "source": []
  },
  {
   "cell_type": "code",
   "execution_count": null,
   "id": "174a7021-6286-4ed3-a41f-5dea9187309c",
   "metadata": {},
   "outputs": [],
   "source": []
  },
  {
   "cell_type": "code",
   "execution_count": 88,
   "id": "55718b4c-b526-49bc-930d-5873a1f486ba",
   "metadata": {},
   "outputs": [],
   "source": [
    "df = pd.DataFrame(all_rows, columns = [\"Teams\", \"Mat\", \"Won\", \"Lost\", \"Tied\", \"No Result\", \"Aban\", \"Bonus Pts\", \"Points\", \"Net RR\"])"
   ]
  },
  {
   "cell_type": "code",
   "execution_count": 89,
   "id": "0fffe79b-1731-4a75-a6be-190761fcbc96",
   "metadata": {},
   "outputs": [
    {
     "data": {
      "text/html": [
       "<div>\n",
       "<style scoped>\n",
       "    .dataframe tbody tr th:only-of-type {\n",
       "        vertical-align: middle;\n",
       "    }\n",
       "\n",
       "    .dataframe tbody tr th {\n",
       "        vertical-align: top;\n",
       "    }\n",
       "\n",
       "    .dataframe thead th {\n",
       "        text-align: right;\n",
       "    }\n",
       "</style>\n",
       "<table border=\"1\" class=\"dataframe\">\n",
       "  <thead>\n",
       "    <tr style=\"text-align: right;\">\n",
       "      <th></th>\n",
       "      <th>Teams</th>\n",
       "      <th>Mat</th>\n",
       "      <th>Won</th>\n",
       "      <th>Lost</th>\n",
       "      <th>Tied</th>\n",
       "      <th>No Result</th>\n",
       "      <th>Aban</th>\n",
       "      <th>Bonus Pts</th>\n",
       "      <th>Points</th>\n",
       "      <th>Net RR</th>\n",
       "    </tr>\n",
       "  </thead>\n",
       "  <tbody>\n",
       "    <tr>\n",
       "      <th>0</th>\n",
       "      <td>Quetta Gladiators</td>\n",
       "      <td>10</td>\n",
       "      <td>7</td>\n",
       "      <td>2</td>\n",
       "      <td>0</td>\n",
       "      <td>1</td>\n",
       "      <td>0</td>\n",
       "      <td>0</td>\n",
       "      <td>15</td>\n",
       "      <td>1.393</td>\n",
       "    </tr>\n",
       "    <tr>\n",
       "      <th>1</th>\n",
       "      <td>Islamabad United</td>\n",
       "      <td>10</td>\n",
       "      <td>6</td>\n",
       "      <td>4</td>\n",
       "      <td>0</td>\n",
       "      <td>0</td>\n",
       "      <td>0</td>\n",
       "      <td>0</td>\n",
       "      <td>12</td>\n",
       "      <td>0.372</td>\n",
       "    </tr>\n",
       "    <tr>\n",
       "      <th>2</th>\n",
       "      <td>Karachi Kings</td>\n",
       "      <td>10</td>\n",
       "      <td>6</td>\n",
       "      <td>4</td>\n",
       "      <td>0</td>\n",
       "      <td>0</td>\n",
       "      <td>0</td>\n",
       "      <td>0</td>\n",
       "      <td>12</td>\n",
       "      <td>0.049</td>\n",
       "    </tr>\n",
       "    <tr>\n",
       "      <th>3</th>\n",
       "      <td>Lahore Qalandars</td>\n",
       "      <td>10</td>\n",
       "      <td>5</td>\n",
       "      <td>4</td>\n",
       "      <td>0</td>\n",
       "      <td>1</td>\n",
       "      <td>0</td>\n",
       "      <td>0</td>\n",
       "      <td>11</td>\n",
       "      <td>1.036</td>\n",
       "    </tr>\n",
       "    <tr>\n",
       "      <th>4</th>\n",
       "      <td>Peshawar Zalmi</td>\n",
       "      <td>10</td>\n",
       "      <td>4</td>\n",
       "      <td>6</td>\n",
       "      <td>0</td>\n",
       "      <td>0</td>\n",
       "      <td>0</td>\n",
       "      <td>0</td>\n",
       "      <td>8</td>\n",
       "      <td>-0.293</td>\n",
       "    </tr>\n",
       "    <tr>\n",
       "      <th>5</th>\n",
       "      <td>Multan Sultans</td>\n",
       "      <td>10</td>\n",
       "      <td>1</td>\n",
       "      <td>9</td>\n",
       "      <td>0</td>\n",
       "      <td>0</td>\n",
       "      <td>0</td>\n",
       "      <td>0</td>\n",
       "      <td>2</td>\n",
       "      <td>-2.449</td>\n",
       "    </tr>\n",
       "  </tbody>\n",
       "</table>\n",
       "</div>"
      ],
      "text/plain": [
       "               Teams Mat Won Lost Tied No Result Aban Bonus Pts Points  Net RR\n",
       "0  Quetta Gladiators  10   7    2    0         1    0         0     15   1.393\n",
       "1   Islamabad United  10   6    4    0         0    0         0     12   0.372\n",
       "2      Karachi Kings  10   6    4    0         0    0         0     12   0.049\n",
       "3   Lahore Qalandars  10   5    4    0         1    0         0     11   1.036\n",
       "4     Peshawar Zalmi  10   4    6    0         0    0         0      8  -0.293\n",
       "5     Multan Sultans  10   1    9    0         0    0         0      2  -2.449"
      ]
     },
     "execution_count": 89,
     "metadata": {},
     "output_type": "execute_result"
    }
   ],
   "source": [
    "df"
   ]
  },
  {
   "cell_type": "code",
   "execution_count": null,
   "id": "4899d432-360f-4a40-8380-6590a000c976",
   "metadata": {},
   "outputs": [],
   "source": []
  },
  {
   "cell_type": "code",
   "execution_count": 91,
   "id": "6678b0a3-ee30-46db-a5fd-3f9ecba7c9e0",
   "metadata": {},
   "outputs": [],
   "source": [
    "df.to_csv(\"PSL X Points Table.csv\", index=False)"
   ]
  },
  {
   "cell_type": "code",
   "execution_count": null,
   "id": "b7d41fa4-c563-4249-b281-503195977c59",
   "metadata": {},
   "outputs": [],
   "source": []
  }
 ],
 "metadata": {
  "kernelspec": {
   "display_name": "Python 3 (ipykernel)",
   "language": "python",
   "name": "python3"
  },
  "language_info": {
   "codemirror_mode": {
    "name": "ipython",
    "version": 3
   },
   "file_extension": ".py",
   "mimetype": "text/x-python",
   "name": "python",
   "nbconvert_exporter": "python",
   "pygments_lexer": "ipython3",
   "version": "3.10.11"
  }
 },
 "nbformat": 4,
 "nbformat_minor": 5
}
