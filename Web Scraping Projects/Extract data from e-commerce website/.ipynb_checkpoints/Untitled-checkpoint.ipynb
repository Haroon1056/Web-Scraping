{
 "cells": [
  {
   "cell_type": "code",
   "execution_count": 2,
   "id": "4469858c-e410-4c08-851e-413188bd6ad6",
   "metadata": {},
   "outputs": [],
   "source": [
    "import pandas as pd\n",
    "import requests\n",
    "from bs4 import BeautifulSoup"
   ]
  },
  {
   "cell_type": "code",
   "execution_count": 3,
   "id": "f10b5ffb-927e-42c2-a735-69d78b9d8f7a",
   "metadata": {},
   "outputs": [],
   "source": [
    "url = \"https://webscraper.io/test-sites/e-commerce/allinone/computers/tablets\""
   ]
  },
  {
   "cell_type": "code",
   "execution_count": 4,
   "id": "14037986-a378-404a-9205-190da50d4826",
   "metadata": {},
   "outputs": [],
   "source": [
    "web = requests.get(url)"
   ]
  },
  {
   "cell_type": "code",
   "execution_count": 5,
   "id": "78034f55-3402-4360-a909-55ca45009229",
   "metadata": {},
   "outputs": [],
   "source": [
    "soup = BeautifulSoup(web.content, \"html.parser\")"
   ]
  },
  {
   "cell_type": "code",
   "execution_count": null,
   "id": "d4704cf4-3a4d-4134-b305-71439d17133e",
   "metadata": {},
   "outputs": [],
   "source": []
  },
  {
   "cell_type": "code",
   "execution_count": null,
   "id": "3c10c774-005d-46b5-a3f5-2559b48ad811",
   "metadata": {},
   "outputs": [],
   "source": []
  },
  {
   "cell_type": "code",
   "execution_count": 6,
   "id": "3bf8c6e9-ac5d-4a10-9657-b5fa52fa845e",
   "metadata": {},
   "outputs": [],
   "source": [
    "names = soup.find_all(\"a\", class_ = \"title\")"
   ]
  },
  {
   "cell_type": "code",
   "execution_count": 7,
   "id": "1097a88c-3e46-46d6-a963-47af8c643caa",
   "metadata": {},
   "outputs": [],
   "source": [
    "name = []\n",
    "for n in names:\n",
    "    na = n.text.strip()\n",
    "    name.append(na)"
   ]
  },
  {
   "cell_type": "code",
   "execution_count": 8,
   "id": "72c8cc7d-7109-4f28-a87e-0857be925ef5",
   "metadata": {},
   "outputs": [
    {
     "data": {
      "text/plain": [
       "['Lenovo IdeaTab',\n",
       " 'IdeaTab A3500L',\n",
       " 'Acer Iconia',\n",
       " 'Galaxy Tab 3',\n",
       " 'Iconia B1-730H...',\n",
       " 'Memo Pad HD 7',\n",
       " 'Asus MeMO Pad',\n",
       " 'Amazon Kindle',\n",
       " 'Galaxy Tab 3',\n",
       " 'IdeaTab A8-50',\n",
       " 'MeMO Pad 7',\n",
       " 'IdeaTab A3500-...',\n",
       " 'IdeaTab S5000',\n",
       " 'Galaxy Tab 4',\n",
       " 'Galaxy Tab',\n",
       " 'MeMo PAD FHD 1...',\n",
       " 'Galaxy Note',\n",
       " 'Galaxy Note',\n",
       " 'iPad Mini Reti...',\n",
       " 'Galaxy Note 10...',\n",
       " 'Apple iPad Air']"
      ]
     },
     "execution_count": 8,
     "metadata": {},
     "output_type": "execute_result"
    }
   ],
   "source": [
    "name"
   ]
  },
  {
   "cell_type": "code",
   "execution_count": 9,
   "id": "58d9dd34-52b9-4290-9bc2-8261883bbdfe",
   "metadata": {},
   "outputs": [],
   "source": [
    "des = soup.find_all(\"p\", class_ = \"description card-text\")"
   ]
  },
  {
   "cell_type": "code",
   "execution_count": 10,
   "id": "c74707b7-6661-4c50-a078-d28582aeb3e8",
   "metadata": {},
   "outputs": [],
   "source": [
    "description = []\n",
    "for d in des:\n",
    "    de = d.text\n",
    "    description.append(de)\n",
    "    "
   ]
  },
  {
   "cell_type": "code",
   "execution_count": 11,
   "id": "d00e4800-312d-4d5c-be47-1bd60d111fdd",
   "metadata": {},
   "outputs": [],
   "source": [
    "prices = soup.find_all(\"span\", itemprop = \"price\")"
   ]
  },
  {
   "cell_type": "code",
   "execution_count": 12,
   "id": "e8cc5007-28c9-4389-b482-fd29e20af5ce",
   "metadata": {},
   "outputs": [],
   "source": [
    "price = []\n",
    "for p in prices:\n",
    "    pr = p.text\n",
    "    price.append(pr)"
   ]
  },
  {
   "cell_type": "code",
   "execution_count": 13,
   "id": "6feddb21-aaf0-4ebc-9567-4e1c00e8d190",
   "metadata": {},
   "outputs": [],
   "source": [
    "df = pd.DataFrame({\n",
    "    \"Name\":name,\n",
    "    \"Description\":description,\n",
    "    \"Price\":price\n",
    "})"
   ]
  },
  {
   "cell_type": "code",
   "execution_count": 14,
   "id": "f746a130-1889-442f-85f1-f331673ee99c",
   "metadata": {},
   "outputs": [
    {
     "data": {
      "text/html": [
       "<div>\n",
       "<style scoped>\n",
       "    .dataframe tbody tr th:only-of-type {\n",
       "        vertical-align: middle;\n",
       "    }\n",
       "\n",
       "    .dataframe tbody tr th {\n",
       "        vertical-align: top;\n",
       "    }\n",
       "\n",
       "    .dataframe thead th {\n",
       "        text-align: right;\n",
       "    }\n",
       "</style>\n",
       "<table border=\"1\" class=\"dataframe\">\n",
       "  <thead>\n",
       "    <tr style=\"text-align: right;\">\n",
       "      <th></th>\n",
       "      <th>Name</th>\n",
       "      <th>Description</th>\n",
       "      <th>Price</th>\n",
       "    </tr>\n",
       "  </thead>\n",
       "  <tbody>\n",
       "    <tr>\n",
       "      <th>0</th>\n",
       "      <td>Lenovo IdeaTab</td>\n",
       "      <td>7\" screen, Android</td>\n",
       "      <td>$69.99</td>\n",
       "    </tr>\n",
       "    <tr>\n",
       "      <th>1</th>\n",
       "      <td>IdeaTab A3500L</td>\n",
       "      <td>Black, 7\" IPS, Quad-Core 1.2GHz, 8GB, Android 4.2</td>\n",
       "      <td>$88.99</td>\n",
       "    </tr>\n",
       "    <tr>\n",
       "      <th>2</th>\n",
       "      <td>Acer Iconia</td>\n",
       "      <td>7\" screen, Android, 16GB</td>\n",
       "      <td>$96.99</td>\n",
       "    </tr>\n",
       "    <tr>\n",
       "      <th>3</th>\n",
       "      <td>Galaxy Tab 3</td>\n",
       "      <td>7\", 8GB, Wi-Fi, Android 4.2, White</td>\n",
       "      <td>$97.99</td>\n",
       "    </tr>\n",
       "    <tr>\n",
       "      <th>4</th>\n",
       "      <td>Iconia B1-730H...</td>\n",
       "      <td>Black, 7\", 1.6GHz Dual-Core, 8GB, Android 4.4</td>\n",
       "      <td>$99.99</td>\n",
       "    </tr>\n",
       "  </tbody>\n",
       "</table>\n",
       "</div>"
      ],
      "text/plain": [
       "                Name                                        Description  \\\n",
       "0     Lenovo IdeaTab                                 7\" screen, Android   \n",
       "1     IdeaTab A3500L  Black, 7\" IPS, Quad-Core 1.2GHz, 8GB, Android 4.2   \n",
       "2        Acer Iconia                           7\" screen, Android, 16GB   \n",
       "3       Galaxy Tab 3                 7\", 8GB, Wi-Fi, Android 4.2, White   \n",
       "4  Iconia B1-730H...      Black, 7\", 1.6GHz Dual-Core, 8GB, Android 4.4   \n",
       "\n",
       "    Price  \n",
       "0  $69.99  \n",
       "1  $88.99  \n",
       "2  $96.99  \n",
       "3  $97.99  \n",
       "4  $99.99  "
      ]
     },
     "execution_count": 14,
     "metadata": {},
     "output_type": "execute_result"
    }
   ],
   "source": [
    "df.head(5)"
   ]
  },
  {
   "cell_type": "code",
   "execution_count": 56,
   "id": "84fb8942-3da8-40d2-8102-06f91d1b74c7",
   "metadata": {},
   "outputs": [],
   "source": [
    "# Save to Excel file\n",
    "df.to_csv(\"product_data.csv\", index=False)\n",
    "# df.to_csv(\"product_data.csv\", index=False)\n"
   ]
  },
  {
   "cell_type": "code",
   "execution_count": null,
   "id": "c3f7c6ac-6e90-44d0-9886-5deeaef6090b",
   "metadata": {},
   "outputs": [],
   "source": []
  },
  {
   "cell_type": "code",
   "execution_count": null,
   "id": "b30d4346-943c-4502-bcc3-11b0280e92bc",
   "metadata": {},
   "outputs": [],
   "source": []
  },
  {
   "cell_type": "code",
   "execution_count": null,
   "id": "225fa5a8-47f4-4d8c-933a-902fb58ce582",
   "metadata": {},
   "outputs": [],
   "source": []
  }
 ],
 "metadata": {
  "kernelspec": {
   "display_name": "Python 3 (ipykernel)",
   "language": "python",
   "name": "python3"
  },
  "language_info": {
   "codemirror_mode": {
    "name": "ipython",
    "version": 3
   },
   "file_extension": ".py",
   "mimetype": "text/x-python",
   "name": "python",
   "nbconvert_exporter": "python",
   "pygments_lexer": "ipython3",
   "version": "3.10.11"
  }
 },
 "nbformat": 4,
 "nbformat_minor": 5
}
