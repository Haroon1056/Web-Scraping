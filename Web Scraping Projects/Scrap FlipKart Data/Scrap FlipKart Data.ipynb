{
 "cells": [
  {
   "cell_type": "code",
   "execution_count": 1,
   "id": "86da1e47-a602-492d-8c7c-bd27e3db72c4",
   "metadata": {},
   "outputs": [],
   "source": [
    "import pandas as pd\n",
    "import requests\n",
    "from bs4 import BeautifulSoup"
   ]
  },
  {
   "cell_type": "code",
   "execution_count": 2,
   "id": "699c7eab-6e84-4772-b30f-bdadf8d30f53",
   "metadata": {},
   "outputs": [],
   "source": [
    "# while True:            \"if each page link is different\"\n",
    "#     np = soup.find(\"a\", class_ = \"_9QVEpD\").get(\"href\")\n",
    "#     cnp = \"https://www.flipkart.com/\"+np\n",
    "#     print(cnp)"
   ]
  },
  {
   "cell_type": "code",
   "execution_count": null,
   "id": "150e8067-ecef-42e0-bef7-6bdb701a7dcd",
   "metadata": {},
   "outputs": [],
   "source": []
  },
  {
   "cell_type": "code",
   "execution_count": 3,
   "id": "6c0330de-6633-437a-a9b1-8f58c4ebd22a",
   "metadata": {},
   "outputs": [
    {
     "name": "stdout",
     "output_type": "stream",
     "text": [
      "Scraped page 1, status: 200\n",
      "Scraped page 2, status: 200\n",
      "Scraped page 3, status: 200\n",
      "Scraped page 4, status: 200\n",
      "Scraped page 5, status: 200\n",
      "Scraped page 6, status: 200\n",
      "Scraped page 7, status: 200\n",
      "Scraped page 8, status: 200\n",
      "Scraped page 9, status: 200\n",
      "Scraped page 10, status: 200\n",
      "Scraped page 11, status: 200\n",
      "Scraped page 12, status: 200\n",
      "Scraped page 13, status: 200\n",
      "Scraped page 14, status: 200\n",
      "Scraped page 15, status: 200\n",
      "Scraped page 16, status: 200\n",
      "Scraped page 17, status: 200\n",
      "Scraped page 18, status: 200\n",
      "Scraped page 19, status: 200\n",
      "Scraped page 20, status: 200\n",
      "Scraped page 21, status: 200\n",
      "Scraped page 22, status: 200\n",
      "Scraped page 23, status: 200\n",
      "Scraped page 24, status: 200\n",
      "Scraped page 25, status: 429\n",
      "Scraped page 26, status: 200\n",
      "Scraped page 27, status: 200\n",
      "Scraped page 28, status: 200\n",
      "Scraped page 29, status: 429\n",
      "Scraped page 30, status: 200\n",
      "Scraped page 31, status: 200\n",
      "Scraped page 32, status: 200\n",
      "Scraped page 33, status: 200\n",
      "Scraped page 34, status: 200\n",
      "Scraped page 35, status: 429\n",
      "Scraped page 36, status: 200\n",
      "Scraped page 37, status: 200\n",
      "Scraped page 38, status: 200\n",
      "Scraped page 39, status: 200\n",
      "Scraped page 40, status: 429\n",
      "Scraped page 41, status: 200\n",
      "Total Products: 888\n",
      "Total Prices: 888\n",
      "Total Descriptions: 888\n",
      "Total Reviews: 888\n"
     ]
    }
   ],
   "source": [
    "from bs4 import BeautifulSoup\n",
    "import requests\n",
    "\n",
    "Product_name = []\n",
    "Prices = []\n",
    "Description = []\n",
    "Reviews = []\n",
    "\n",
    "for i in range(1, 42):\n",
    "    url = f\"https://www.flipkart.com/search?q=mobile+5g+under+10000&sid=tyy%2C4io&as=on&as-show=on&otracker=AS_QueryStore_OrganicAutoSuggest_1_10_na_na_na&otracker1=AS_QueryStore_OrganicAutoSuggest_1_10_na_na_na&as-pos=1&as-type=RECENT&suggestionId=mobile+5g+under+10000%7CMobiles&requestId=7496620d-300f-4765-8901-da8ed46a6437&as-backfill=on&page={i}\"\n",
    "\n",
    "    response = requests.get(url)\n",
    "    soup = BeautifulSoup(response.content, \"html.parser\")\n",
    "\n",
    "    # Each product is inside this class\n",
    "    products = soup.find_all('div', class_=\"yKfJKb row\")\n",
    "\n",
    "    for product in products:\n",
    "        # Name\n",
    "        name_tag = product.find('div', class_=\"KzDlHZ\")\n",
    "        Product_name.append(name_tag.text.strip() if name_tag else \"No Name\")\n",
    "\n",
    "        # Price\n",
    "        price_tag = product.find('div', class_=\"Nx9bqj _4b5DiR\")\n",
    "        Prices.append(price_tag.text.strip() if price_tag else \"Not Available\")\n",
    "\n",
    "        # Description\n",
    "        desc_tag = product.find('ul', class_=\"G4BRas\")\n",
    "        Description.append(desc_tag.text.strip() if desc_tag else \"No Description\")\n",
    "\n",
    "        # Review\n",
    "        review_tag = product.find('div', class_=\"XQDdHH\")\n",
    "        Reviews.append(review_tag.text.strip() if review_tag else \"0.0\")\n",
    "\n",
    "    print(f\"Scraped page {i}, status: {response.status_code}\")\n",
    "\n",
    "print(\"Total Products:\", len(Product_name))\n",
    "print(\"Total Prices:\", len(Prices))\n",
    "print(\"Total Descriptions:\", len(Description))\n",
    "print(\"Total Reviews:\", len(Reviews))\n"
   ]
  },
  {
   "cell_type": "code",
   "execution_count": 8,
   "id": "6937cd8a-aa9b-4436-8fae-c0f8f7eed8f7",
   "metadata": {
    "jupyter": {
     "source_hidden": true
    }
   },
   "outputs": [
    {
     "name": "stdout",
     "output_type": "stream",
     "text": [
      "1649\n",
      "1656\n",
      "1643\n",
      "1656\n"
     ]
    }
   ],
   "source": [
    "# for i in range(2, 42):\n",
    "    \n",
    "#     url = \"https://www.flipkart.com/search?q=mobile+5g+under+10000&sid=tyy%2C4io&as=on&as-show=on&otracker=AS_QueryStore_OrganicAutoSuggest_1_10_na_na_na&otracker1=AS_QueryStore_OrganicAutoSuggest_1_10_na_na_na&as-pos=1&as-type=RECENT&suggestionId=mobile+5g+under+10000%7CMobiles&requestId=7496620d-300f-4765-8901-da8ed46a6437&as-backfill=on&page=\"+str(i)\n",
    "    \n",
    "#     response = requests.get(url)\n",
    "#     soup = BeautifulSoup(response.content, \"html.parser\")\n",
    "    \n",
    "#     link_tag = soup.find(\"a\", class_=\"_9QVEpD\")\n",
    "#     if link_tag:\n",
    "#         np = link_tag.get(\"href\")\n",
    "#         cnp = \"https://www.flipkart.com\" + np\n",
    "\n",
    "#         Names = soup.find_all('div', class_ = \"KzDlHZ\")\n",
    "#         for n in Names:\n",
    "#             name = n.text\n",
    "#             Product_name.append(name)\n",
    "\n",
    "#         Price = soup.find_all('div', class_ = \"Nx9bqj _4b5DiR\")\n",
    "#         for p in Price:\n",
    "#             pri = p.text\n",
    "#             Prices.append(pri if pri else \"Not Available\")\n",
    "\n",
    "#         desc = soup.find_all('ul', class_ = \"G4BRas\")\n",
    "#         for d in desc:\n",
    "#             des = d.text\n",
    "#             Description.append(des if des else \"No Description\")\n",
    "        \n",
    "#         main_part = soup.find('div', class_=\"DOjaWF gdgoEp\")\n",
    "#         if main_part:\n",
    "#             rev = main_part.find_all('div', class_=\"XQDdHH\")\n",
    "#             for r in rev:\n",
    "#                 re = r.text.strip()\n",
    "#                 Reviews.append(re if re else \"0.0\")\n",
    "#         else:\n",
    "#             # If main_part is not found, avoid crashing and fill with default\n",
    "#             Reviews.append(\"0.0\")\n",
    "                \n",
    "#         print(cnp)\n",
    "#     else:\n",
    "#         print(f\"No link found on page {i-1}\")\n",
    "#     print(response.status_code)"
   ]
  },
  {
   "cell_type": "code",
   "execution_count": null,
   "id": "ecc5ab8b-61c0-4a24-803b-1fe968c8fb73",
   "metadata": {},
   "outputs": [],
   "source": []
  },
  {
   "cell_type": "code",
   "execution_count": 4,
   "id": "c7c95396-0372-457c-a878-2ed133b161b6",
   "metadata": {},
   "outputs": [],
   "source": [
    "df = pd.DataFrame({\n",
    "    \"Name\":Product_name,\n",
    "    \"Description\": Description,\n",
    "    \"Price\": Prices,\n",
    "    \"Review\": Reviews})"
   ]
  },
  {
   "cell_type": "code",
   "execution_count": 5,
   "id": "9bb2efed-2397-400e-a9ca-8f04e322c823",
   "metadata": {},
   "outputs": [
    {
     "data": {
      "text/html": [
       "<div>\n",
       "<style scoped>\n",
       "    .dataframe tbody tr th:only-of-type {\n",
       "        vertical-align: middle;\n",
       "    }\n",
       "\n",
       "    .dataframe tbody tr th {\n",
       "        vertical-align: top;\n",
       "    }\n",
       "\n",
       "    .dataframe thead th {\n",
       "        text-align: right;\n",
       "    }\n",
       "</style>\n",
       "<table border=\"1\" class=\"dataframe\">\n",
       "  <thead>\n",
       "    <tr style=\"text-align: right;\">\n",
       "      <th></th>\n",
       "      <th>Name</th>\n",
       "      <th>Description</th>\n",
       "      <th>Price</th>\n",
       "      <th>Review</th>\n",
       "    </tr>\n",
       "  </thead>\n",
       "  <tbody>\n",
       "    <tr>\n",
       "      <th>0</th>\n",
       "      <td>POCO M6 Plus 5G (Misty Lavender, 128 GB)</td>\n",
       "      <td>6 GB RAM | 128 GB ROM | Expandable Upto 1 TB17...</td>\n",
       "      <td>₹9,999</td>\n",
       "      <td>4.2</td>\n",
       "    </tr>\n",
       "    <tr>\n",
       "      <th>1</th>\n",
       "      <td>MOTOROLA g35 5G (Midnight Black, 128 GB)</td>\n",
       "      <td>4 GB RAM | 128 GB ROM | Expandable Upto 1 TB17...</td>\n",
       "      <td>₹9,999</td>\n",
       "      <td>4.2</td>\n",
       "    </tr>\n",
       "    <tr>\n",
       "      <th>2</th>\n",
       "      <td>MOTOROLA g35 5G (Leaf Green, 128 GB)</td>\n",
       "      <td>4 GB RAM | 128 GB ROM | Expandable Upto 1 TB17...</td>\n",
       "      <td>₹9,999</td>\n",
       "      <td>4.2</td>\n",
       "    </tr>\n",
       "    <tr>\n",
       "      <th>3</th>\n",
       "      <td>POCO C75 5G (Enchanted Green, 128 GB)</td>\n",
       "      <td>4 GB RAM | 128 GB ROM | Expandable Upto 1 TB17...</td>\n",
       "      <td>₹8,499</td>\n",
       "      <td>4.3</td>\n",
       "    </tr>\n",
       "    <tr>\n",
       "      <th>4</th>\n",
       "      <td>POCO M6 Plus 5G (Ice Silver, 128 GB)</td>\n",
       "      <td>6 GB RAM | 128 GB ROM | Expandable Upto 1 TB17...</td>\n",
       "      <td>₹9,999</td>\n",
       "      <td>4.2</td>\n",
       "    </tr>\n",
       "  </tbody>\n",
       "</table>\n",
       "</div>"
      ],
      "text/plain": [
       "                                       Name  \\\n",
       "0  POCO M6 Plus 5G (Misty Lavender, 128 GB)   \n",
       "1  MOTOROLA g35 5G (Midnight Black, 128 GB)   \n",
       "2      MOTOROLA g35 5G (Leaf Green, 128 GB)   \n",
       "3     POCO C75 5G (Enchanted Green, 128 GB)   \n",
       "4      POCO M6 Plus 5G (Ice Silver, 128 GB)   \n",
       "\n",
       "                                         Description   Price Review  \n",
       "0  6 GB RAM | 128 GB ROM | Expandable Upto 1 TB17...  ₹9,999    4.2  \n",
       "1  4 GB RAM | 128 GB ROM | Expandable Upto 1 TB17...  ₹9,999    4.2  \n",
       "2  4 GB RAM | 128 GB ROM | Expandable Upto 1 TB17...  ₹9,999    4.2  \n",
       "3  4 GB RAM | 128 GB ROM | Expandable Upto 1 TB17...  ₹8,499    4.3  \n",
       "4  6 GB RAM | 128 GB ROM | Expandable Upto 1 TB17...  ₹9,999    4.2  "
      ]
     },
     "execution_count": 5,
     "metadata": {},
     "output_type": "execute_result"
    }
   ],
   "source": [
    "df.head(5)"
   ]
  },
  {
   "cell_type": "code",
   "execution_count": 6,
   "id": "dbe6eb5e-5111-4dff-999f-b8f6037486bf",
   "metadata": {},
   "outputs": [],
   "source": [
    "df.to_csv(\"products_data.csv\", index=False)"
   ]
  },
  {
   "cell_type": "code",
   "execution_count": null,
   "id": "e101db15-cc89-475d-9930-8436c159982e",
   "metadata": {},
   "outputs": [],
   "source": []
  },
  {
   "cell_type": "code",
   "execution_count": null,
   "id": "d2b3e5c6-7b42-41ed-8fa5-8e34705422e9",
   "metadata": {},
   "outputs": [],
   "source": []
  },
  {
   "cell_type": "code",
   "execution_count": null,
   "id": "292b49f4-bf0d-495c-88e0-bea9ddf8d104",
   "metadata": {},
   "outputs": [],
   "source": []
  },
  {
   "cell_type": "code",
   "execution_count": null,
   "id": "00fd1407-cf69-4186-8933-edf4bc2e8885",
   "metadata": {},
   "outputs": [],
   "source": []
  },
  {
   "cell_type": "code",
   "execution_count": null,
   "id": "a74878b1-5574-4468-be21-d41334fa350c",
   "metadata": {},
   "outputs": [],
   "source": []
  },
  {
   "cell_type": "code",
   "execution_count": null,
   "id": "c5462734-01fb-4e7c-9758-aebe8ccd8a64",
   "metadata": {},
   "outputs": [],
   "source": []
  }
 ],
 "metadata": {
  "kernelspec": {
   "display_name": "Python 3 (ipykernel)",
   "language": "python",
   "name": "python3"
  },
  "language_info": {
   "codemirror_mode": {
    "name": "ipython",
    "version": 3
   },
   "file_extension": ".py",
   "mimetype": "text/x-python",
   "name": "python",
   "nbconvert_exporter": "python",
   "pygments_lexer": "ipython3",
   "version": "3.10.11"
  }
 },
 "nbformat": 4,
 "nbformat_minor": 5
}
