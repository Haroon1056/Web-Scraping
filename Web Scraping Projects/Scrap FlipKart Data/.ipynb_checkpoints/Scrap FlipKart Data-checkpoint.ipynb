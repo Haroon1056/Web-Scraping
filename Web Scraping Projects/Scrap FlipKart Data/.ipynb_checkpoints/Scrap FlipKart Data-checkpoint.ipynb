{
 "cells": [
  {
   "cell_type": "code",
   "execution_count": 1,
   "id": "86da1e47-a602-492d-8c7c-bd27e3db72c4",
   "metadata": {},
   "outputs": [],
   "source": [
    "import pandas as pd\n",
    "import requests\n",
    "from bs4 import BeautifulSoup"
   ]
  },
  {
   "cell_type": "code",
   "execution_count": 2,
   "id": "699c7eab-6e84-4772-b30f-bdadf8d30f53",
   "metadata": {},
   "outputs": [],
   "source": [
    "# while True:            \"if each page link is different\"\n",
    "#     np = soup.find(\"a\", class_ = \"_9QVEpD\").get(\"href\")\n",
    "#     cnp = \"https://www.flipkart.com/\"+np\n",
    "#     print(cnp)"
   ]
  },
  {
   "cell_type": "code",
   "execution_count": 3,
   "id": "150e8067-ecef-42e0-bef7-6bdb701a7dcd",
   "metadata": {},
   "outputs": [],
   "source": [
    "Product_name = []\n",
    "Prices = []\n",
    "Description = []\n",
    "Reviews = []"
   ]
  },
  {
   "cell_type": "code",
   "execution_count": 4,
   "id": "6c0330de-6633-437a-a9b1-8f58c4ebd22a",
   "metadata": {},
   "outputs": [
    {
     "name": "stdout",
     "output_type": "stream",
     "text": [
      "https://www.flipkart.com/search?q=mobile+5g+under+10000&sid=tyy%2C4io&as=on&as-show=on&otracker=AS_QueryStore_OrganicAutoSuggest_1_10_na_na_na&otracker1=AS_QueryStore_OrganicAutoSuggest_1_10_na_na_na&as-pos=1&as-type=RECENT&suggestionId=mobile+5g+under+10000%7CMobiles&requestId=7496620d-300f-4765-8901-da8ed46a6437&as-backfill=on&page=1\n",
      "200\n",
      "https://www.flipkart.com/search?q=mobile+5g+under+10000&sid=tyy%2C4io&as=on&as-show=on&otracker=AS_QueryStore_OrganicAutoSuggest_1_10_na_na_na&otracker1=AS_QueryStore_OrganicAutoSuggest_1_10_na_na_na&as-pos=1&as-type=RECENT&suggestionId=mobile+5g+under+10000%7CMobiles&requestId=7496620d-300f-4765-8901-da8ed46a6437&as-backfill=on&page=2\n",
      "200\n",
      "https://www.flipkart.com/search?q=mobile+5g+under+10000&sid=tyy%2C4io&as=on&as-show=on&otracker=AS_QueryStore_OrganicAutoSuggest_1_10_na_na_na&otracker1=AS_QueryStore_OrganicAutoSuggest_1_10_na_na_na&as-pos=1&as-type=RECENT&suggestionId=mobile+5g+under+10000%7CMobiles&requestId=7496620d-300f-4765-8901-da8ed46a6437&as-backfill=on&page=3\n",
      "200\n",
      "https://www.flipkart.com/search?q=mobile+5g+under+10000&sid=tyy%2C4io&as=on&as-show=on&otracker=AS_QueryStore_OrganicAutoSuggest_1_10_na_na_na&otracker1=AS_QueryStore_OrganicAutoSuggest_1_10_na_na_na&as-pos=1&as-type=RECENT&suggestionId=mobile+5g+under+10000%7CMobiles&requestId=7496620d-300f-4765-8901-da8ed46a6437&as-backfill=on&page=4\n",
      "200\n",
      "No link found on page 5\n",
      "429\n",
      "No link found on page 6\n",
      "429\n",
      "https://www.flipkart.com/search?q=mobile+5g+under+10000&sid=tyy%2C4io&as=on&as-show=on&otracker=AS_QueryStore_OrganicAutoSuggest_1_10_na_na_na&otracker1=AS_QueryStore_OrganicAutoSuggest_1_10_na_na_na&as-pos=1&as-type=RECENT&suggestionId=mobile+5g+under+10000%7CMobiles&requestId=7496620d-300f-4765-8901-da8ed46a6437&as-backfill=on&page=7\n",
      "200\n",
      "https://www.flipkart.com/search?q=mobile+5g+under+10000&sid=tyy%2C4io&as=on&as-show=on&otracker=AS_QueryStore_OrganicAutoSuggest_1_10_na_na_na&otracker1=AS_QueryStore_OrganicAutoSuggest_1_10_na_na_na&as-pos=1&as-type=RECENT&suggestionId=mobile+5g+under+10000%7CMobiles&requestId=7496620d-300f-4765-8901-da8ed46a6437&as-backfill=on&page=8\n",
      "200\n",
      "https://www.flipkart.com/search?q=mobile+5g+under+10000&sid=tyy%2C4io&as=on&as-show=on&otracker=AS_QueryStore_OrganicAutoSuggest_1_10_na_na_na&otracker1=AS_QueryStore_OrganicAutoSuggest_1_10_na_na_na&as-pos=1&as-type=RECENT&suggestionId=mobile+5g+under+10000%7CMobiles&requestId=7496620d-300f-4765-8901-da8ed46a6437&as-backfill=on&page=9\n",
      "200\n",
      "No link found on page 10\n",
      "429\n",
      "https://www.flipkart.com/search?q=mobile+5g+under+10000&sid=tyy%2C4io&as=on&as-show=on&otracker=AS_QueryStore_OrganicAutoSuggest_1_10_na_na_na&otracker1=AS_QueryStore_OrganicAutoSuggest_1_10_na_na_na&as-pos=1&as-type=RECENT&suggestionId=mobile+5g+under+10000%7CMobiles&requestId=7496620d-300f-4765-8901-da8ed46a6437&as-backfill=on&page=11\n",
      "200\n",
      "https://www.flipkart.com/search?q=mobile+5g+under+10000&sid=tyy%2C4io&as=on&as-show=on&otracker=AS_QueryStore_OrganicAutoSuggest_1_10_na_na_na&otracker1=AS_QueryStore_OrganicAutoSuggest_1_10_na_na_na&as-pos=1&as-type=RECENT&suggestionId=mobile+5g+under+10000%7CMobiles&requestId=7496620d-300f-4765-8901-da8ed46a6437&as-backfill=on&page=12\n",
      "200\n",
      "https://www.flipkart.com/search?q=mobile+5g+under+10000&sid=tyy%2C4io&as=on&as-show=on&otracker=AS_QueryStore_OrganicAutoSuggest_1_10_na_na_na&otracker1=AS_QueryStore_OrganicAutoSuggest_1_10_na_na_na&as-pos=1&as-type=RECENT&suggestionId=mobile+5g+under+10000%7CMobiles&requestId=7496620d-300f-4765-8901-da8ed46a6437&as-backfill=on&page=13\n",
      "200\n",
      "No link found on page 14\n",
      "429\n",
      "https://www.flipkart.com/search?q=mobile+5g+under+10000&sid=tyy%2C4io&as=on&as-show=on&otracker=AS_QueryStore_OrganicAutoSuggest_1_10_na_na_na&otracker1=AS_QueryStore_OrganicAutoSuggest_1_10_na_na_na&as-pos=1&as-type=RECENT&suggestionId=mobile+5g+under+10000%7CMobiles&requestId=7496620d-300f-4765-8901-da8ed46a6437&as-backfill=on&page=15\n",
      "200\n",
      "https://www.flipkart.com/search?q=mobile+5g+under+10000&sid=tyy%2C4io&as=on&as-show=on&otracker=AS_QueryStore_OrganicAutoSuggest_1_10_na_na_na&otracker1=AS_QueryStore_OrganicAutoSuggest_1_10_na_na_na&as-pos=1&as-type=RECENT&suggestionId=mobile+5g+under+10000%7CMobiles&requestId=7496620d-300f-4765-8901-da8ed46a6437&as-backfill=on&page=16\n",
      "200\n",
      "https://www.flipkart.com/search?q=mobile+5g+under+10000&sid=tyy%2C4io&as=on&as-show=on&otracker=AS_QueryStore_OrganicAutoSuggest_1_10_na_na_na&otracker1=AS_QueryStore_OrganicAutoSuggest_1_10_na_na_na&as-pos=1&as-type=RECENT&suggestionId=mobile+5g+under+10000%7CMobiles&requestId=7496620d-300f-4765-8901-da8ed46a6437&as-backfill=on&page=17\n",
      "200\n",
      "https://www.flipkart.com/search?q=mobile+5g+under+10000&sid=tyy%2C4io&as=on&as-show=on&otracker=AS_QueryStore_OrganicAutoSuggest_1_10_na_na_na&otracker1=AS_QueryStore_OrganicAutoSuggest_1_10_na_na_na&as-pos=1&as-type=RECENT&suggestionId=mobile+5g+under+10000%7CMobiles&requestId=7496620d-300f-4765-8901-da8ed46a6437&as-backfill=on&page=18\n",
      "200\n",
      "https://www.flipkart.com/search?q=mobile+5g+under+10000&sid=tyy%2C4io&as=on&as-show=on&otracker=AS_QueryStore_OrganicAutoSuggest_1_10_na_na_na&otracker1=AS_QueryStore_OrganicAutoSuggest_1_10_na_na_na&as-pos=1&as-type=RECENT&suggestionId=mobile+5g+under+10000%7CMobiles&requestId=7496620d-300f-4765-8901-da8ed46a6437&as-backfill=on&page=19\n",
      "200\n",
      "https://www.flipkart.com/search?q=mobile+5g+under+10000&sid=tyy%2C4io&as=on&as-show=on&otracker=AS_QueryStore_OrganicAutoSuggest_1_10_na_na_na&otracker1=AS_QueryStore_OrganicAutoSuggest_1_10_na_na_na&as-pos=1&as-type=RECENT&suggestionId=mobile+5g+under+10000%7CMobiles&requestId=7496620d-300f-4765-8901-da8ed46a6437&as-backfill=on&page=20\n",
      "200\n",
      "https://www.flipkart.com/search?q=mobile+5g+under+10000&sid=tyy%2C4io&as=on&as-show=on&otracker=AS_QueryStore_OrganicAutoSuggest_1_10_na_na_na&otracker1=AS_QueryStore_OrganicAutoSuggest_1_10_na_na_na&as-pos=1&as-type=RECENT&suggestionId=mobile+5g+under+10000%7CMobiles&requestId=7496620d-300f-4765-8901-da8ed46a6437&as-backfill=on&page=21\n",
      "200\n",
      "https://www.flipkart.com/search?q=mobile+5g+under+10000&sid=tyy%2C4io&as=on&as-show=on&otracker=AS_QueryStore_OrganicAutoSuggest_1_10_na_na_na&otracker1=AS_QueryStore_OrganicAutoSuggest_1_10_na_na_na&as-pos=1&as-type=RECENT&suggestionId=mobile+5g+under+10000%7CMobiles&requestId=7496620d-300f-4765-8901-da8ed46a6437&as-backfill=on&page=22\n",
      "200\n",
      "https://www.flipkart.com/search?q=mobile+5g+under+10000&sid=tyy%2C4io&as=on&as-show=on&otracker=AS_QueryStore_OrganicAutoSuggest_1_10_na_na_na&otracker1=AS_QueryStore_OrganicAutoSuggest_1_10_na_na_na&as-pos=1&as-type=RECENT&suggestionId=mobile+5g+under+10000%7CMobiles&requestId=7496620d-300f-4765-8901-da8ed46a6437&as-backfill=on&page=23\n",
      "200\n",
      "https://www.flipkart.com/search?q=mobile+5g+under+10000&sid=tyy%2C4io&as=on&as-show=on&otracker=AS_QueryStore_OrganicAutoSuggest_1_10_na_na_na&otracker1=AS_QueryStore_OrganicAutoSuggest_1_10_na_na_na&as-pos=1&as-type=RECENT&suggestionId=mobile+5g+under+10000%7CMobiles&requestId=7496620d-300f-4765-8901-da8ed46a6437&as-backfill=on&page=24\n",
      "200\n",
      "https://www.flipkart.com/search?q=mobile+5g+under+10000&sid=tyy%2C4io&as=on&as-show=on&otracker=AS_QueryStore_OrganicAutoSuggest_1_10_na_na_na&otracker1=AS_QueryStore_OrganicAutoSuggest_1_10_na_na_na&as-pos=1&as-type=RECENT&suggestionId=mobile+5g+under+10000%7CMobiles&requestId=7496620d-300f-4765-8901-da8ed46a6437&as-backfill=on&page=25\n",
      "200\n",
      "No link found on page 26\n",
      "429\n",
      "No link found on page 27\n",
      "429\n",
      "https://www.flipkart.com/search?q=mobile+5g+under+10000&sid=tyy%2C4io&as=on&as-show=on&otracker=AS_QueryStore_OrganicAutoSuggest_1_10_na_na_na&otracker1=AS_QueryStore_OrganicAutoSuggest_1_10_na_na_na&as-pos=1&as-type=RECENT&suggestionId=mobile+5g+under+10000%7CMobiles&requestId=7496620d-300f-4765-8901-da8ed46a6437&as-backfill=on&page=28\n",
      "200\n",
      "https://www.flipkart.com/search?q=mobile+5g+under+10000&sid=tyy%2C4io&as=on&as-show=on&otracker=AS_QueryStore_OrganicAutoSuggest_1_10_na_na_na&otracker1=AS_QueryStore_OrganicAutoSuggest_1_10_na_na_na&as-pos=1&as-type=RECENT&suggestionId=mobile+5g+under+10000%7CMobiles&requestId=7496620d-300f-4765-8901-da8ed46a6437&as-backfill=on&page=29\n",
      "200\n",
      "https://www.flipkart.com/search?q=mobile+5g+under+10000&sid=tyy%2C4io&as=on&as-show=on&otracker=AS_QueryStore_OrganicAutoSuggest_1_10_na_na_na&otracker1=AS_QueryStore_OrganicAutoSuggest_1_10_na_na_na&as-pos=1&as-type=RECENT&suggestionId=mobile+5g+under+10000%7CMobiles&requestId=7496620d-300f-4765-8901-da8ed46a6437&as-backfill=on&page=30\n",
      "200\n",
      "https://www.flipkart.com/search?q=mobile+5g+under+10000&sid=tyy%2C4io&as=on&as-show=on&otracker=AS_QueryStore_OrganicAutoSuggest_1_10_na_na_na&otracker1=AS_QueryStore_OrganicAutoSuggest_1_10_na_na_na&as-pos=1&as-type=RECENT&suggestionId=mobile+5g+under+10000%7CMobiles&requestId=7496620d-300f-4765-8901-da8ed46a6437&as-backfill=on&page=31\n",
      "200\n",
      "https://www.flipkart.com/search?q=mobile+5g+under+10000&sid=tyy%2C4io&as=on&as-show=on&otracker=AS_QueryStore_OrganicAutoSuggest_1_10_na_na_na&otracker1=AS_QueryStore_OrganicAutoSuggest_1_10_na_na_na&as-pos=1&as-type=RECENT&suggestionId=mobile+5g+under+10000%7CMobiles&requestId=7496620d-300f-4765-8901-da8ed46a6437&as-backfill=on&page=32\n",
      "200\n",
      "https://www.flipkart.com/search?q=mobile+5g+under+10000&sid=tyy%2C4io&as=on&as-show=on&otracker=AS_QueryStore_OrganicAutoSuggest_1_10_na_na_na&otracker1=AS_QueryStore_OrganicAutoSuggest_1_10_na_na_na&as-pos=1&as-type=RECENT&suggestionId=mobile+5g+under+10000%7CMobiles&requestId=7496620d-300f-4765-8901-da8ed46a6437&as-backfill=on&page=33\n",
      "200\n",
      "https://www.flipkart.com/search?q=mobile+5g+under+10000&sid=tyy%2C4io&as=on&as-show=on&otracker=AS_QueryStore_OrganicAutoSuggest_1_10_na_na_na&otracker1=AS_QueryStore_OrganicAutoSuggest_1_10_na_na_na&as-pos=1&as-type=RECENT&suggestionId=mobile+5g+under+10000%7CMobiles&requestId=7496620d-300f-4765-8901-da8ed46a6437&as-backfill=on&page=34\n",
      "200\n",
      "https://www.flipkart.com/search?q=mobile+5g+under+10000&sid=tyy%2C4io&as=on&as-show=on&otracker=AS_QueryStore_OrganicAutoSuggest_1_10_na_na_na&otracker1=AS_QueryStore_OrganicAutoSuggest_1_10_na_na_na&as-pos=1&as-type=RECENT&suggestionId=mobile+5g+under+10000%7CMobiles&requestId=7496620d-300f-4765-8901-da8ed46a6437&as-backfill=on&page=35\n",
      "200\n",
      "https://www.flipkart.com/search?q=mobile+5g+under+10000&sid=tyy%2C4io&as=on&as-show=on&otracker=AS_QueryStore_OrganicAutoSuggest_1_10_na_na_na&otracker1=AS_QueryStore_OrganicAutoSuggest_1_10_na_na_na&as-pos=1&as-type=RECENT&suggestionId=mobile+5g+under+10000%7CMobiles&requestId=7496620d-300f-4765-8901-da8ed46a6437&as-backfill=on&page=36\n",
      "200\n",
      "No link found on page 37\n",
      "429\n",
      "https://www.flipkart.com/search?q=mobile+5g+under+10000&sid=tyy%2C4io&as=on&as-show=on&otracker=AS_QueryStore_OrganicAutoSuggest_1_10_na_na_na&otracker1=AS_QueryStore_OrganicAutoSuggest_1_10_na_na_na&as-pos=1&as-type=RECENT&suggestionId=mobile+5g+under+10000%7CMobiles&requestId=7496620d-300f-4765-8901-da8ed46a6437&as-backfill=on&page=38\n",
      "200\n",
      "https://www.flipkart.com/search?q=mobile+5g+under+10000&sid=tyy%2C4io&as=on&as-show=on&otracker=AS_QueryStore_OrganicAutoSuggest_1_10_na_na_na&otracker1=AS_QueryStore_OrganicAutoSuggest_1_10_na_na_na&as-pos=1&as-type=RECENT&suggestionId=mobile+5g+under+10000%7CMobiles&requestId=7496620d-300f-4765-8901-da8ed46a6437&as-backfill=on&page=39\n",
      "200\n",
      "https://www.flipkart.com/search?q=mobile+5g+under+10000&sid=tyy%2C4io&as=on&as-show=on&otracker=AS_QueryStore_OrganicAutoSuggest_1_10_na_na_na&otracker1=AS_QueryStore_OrganicAutoSuggest_1_10_na_na_na&as-pos=1&as-type=RECENT&suggestionId=mobile+5g+under+10000%7CMobiles&requestId=7496620d-300f-4765-8901-da8ed46a6437&as-backfill=on&page=40\n",
      "200\n",
      "No link found on page 41\n",
      "200\n",
      "No link found on page 42\n",
      "200\n",
      "No link found on page 43\n",
      "200\n",
      "No link found on page 44\n",
      "200\n",
      "No link found on page 45\n",
      "200\n",
      "No link found on page 46\n",
      "200\n",
      "No link found on page 47\n",
      "200\n",
      "No link found on page 48\n",
      "200\n",
      "No link found on page 49\n",
      "200\n",
      "No link found on page 50\n",
      "200\n"
     ]
    }
   ],
   "source": [
    "for i in range(2, 42):\n",
    "    \n",
    "    url = \"https://www.flipkart.com/search?q=mobile+5g+under+10000&sid=tyy%2C4io&as=on&as-show=on&otracker=AS_QueryStore_OrganicAutoSuggest_1_10_na_na_na&otracker1=AS_QueryStore_OrganicAutoSuggest_1_10_na_na_na&as-pos=1&as-type=RECENT&suggestionId=mobile+5g+under+10000%7CMobiles&requestId=7496620d-300f-4765-8901-da8ed46a6437&as-backfill=on&page=\"+str(i)\n",
    "    \n",
    "    response = requests.get(url)\n",
    "    soup = BeautifulSoup(response.content, \"html.parser\")\n",
    "    \n",
    "    link_tag = soup.find(\"a\", class_=\"_9QVEpD\")\n",
    "    if link_tag:\n",
    "        np = link_tag.get(\"href\")\n",
    "        cnp = \"https://www.flipkart.com\" + np\n",
    "\n",
    "        Names = soup.find_all('div', class_ = \"KzDlHZ\")\n",
    "        for n in Names:\n",
    "            name = n.text\n",
    "            Product_name.append(name)\n",
    "\n",
    "        Price = soup.find_all('div', class_ = \"Nx9bqj _4b5DiR\")\n",
    "        for p in Price:\n",
    "            pri = p.text\n",
    "            Prices.append(pri)\n",
    "# _6NESgJ\n",
    "        products = soup.find_all(\"a\", class_=\"_6NESgJ\")  # each product block\n",
    "        for d in products:\n",
    "        des_tag = d.find_all('ul', class_ = \"G4BRas\")\n",
    "        if des_tag:\n",
    "            Description.append(des_tag.text)\n",
    "        else:\n",
    "            Description.append(\"No Description\")\n",
    "        \n",
    "        main_part = soup.find('div', class_ = \"DOjaWF gdgoEp\")\n",
    "        rev = main_part.find_all('div', class_ = \"XQDdHH\")\n",
    "        for r in rev:\n",
    "            re = r.text\n",
    "            Reviews.append(re)\n",
    "        \n",
    "        print(cnp)\n",
    "    else:\n",
    "        print(f\"No link found on page {i-1}\")\n",
    "    print(response.status_code)\n"
   ]
  },
  {
   "cell_type": "code",
   "execution_count": 5,
   "id": "6937cd8a-aa9b-4436-8fae-c0f8f7eed8f7",
   "metadata": {},
   "outputs": [
    {
     "name": "stdout",
     "output_type": "stream",
     "text": [
      "790\n",
      "792\n",
      "774\n",
      "792\n"
     ]
    }
   ],
   "source": [
    "print(len(Prices))\n",
    "print(len(Description))\n",
    "print(len(Reviews))\n",
    "print(len(Product_name))"
   ]
  },
  {
   "cell_type": "code",
   "execution_count": 5,
   "id": "ecc5ab8b-61c0-4a24-803b-1fe968c8fb73",
   "metadata": {},
   "outputs": [],
   "source": [
    "Product_name = []\n",
    "Prices = []\n",
    "Description = []\n",
    "Reviews = []"
   ]
  },
  {
   "cell_type": "code",
   "execution_count": 6,
   "id": "c7c95396-0372-457c-a878-2ed133b161b6",
   "metadata": {},
   "outputs": [],
   "source": [
    "Names = soup.find_all('div', class_ = \"KzDlHZ\")\n",
    "for n in Names:\n",
    "    name = n.text\n",
    "    Product_name.append(name)"
   ]
  },
  {
   "cell_type": "code",
   "execution_count": 8,
   "id": "9bb2efed-2397-400e-a9ca-8f04e322c823",
   "metadata": {},
   "outputs": [
    {
     "name": "stdout",
     "output_type": "stream",
     "text": [
      "['Nothing Phone (3a) (White, 256 GB)', 'Samsung Galaxy S24 FE 5G (Blue, 128 GB)', 'Samsung Galaxy S24 FE 5G (Graphite, 256 GB)', 'IQOO Z10X 5G (Titanium, 128 GB)', 'POCO M7 5G (Mint Green, 128 GB)', 'POCO X7 5G (Yellow, 128 GB)', 'IQOO Z10X 5G (Titanium, 256 GB)', 'MOTOROLA Edge 60 5G (PANTONE Shamrock, 256 GB)', 'Samsung Galaxy F16 5G (Bling Black, 128 GB)', 'Tecno Pova 6 Neo 5G (Midnight Shadow, 128 GB)', 'IQOO Z10X 5G (Ultramarine, 128 GB)', 'Motorola g45 5G (Brilliant Green, 128 GB)', 'Samsung Galaxy F16 5G (Glam Green, 128 GB)', 'IQOO Z10X 5G (Ultramarine, 128 GB)', 'IQOO Z10X 5G (Ultramarine, 256 GB)', 'Samsung Galaxy S24 FE 5G (Blue, 256 GB)', 'Motorola g64 5G (Berry Red, 128 GB)', 'Apple iPhone 16 Plus (Pink, 128 GB)', 'MOTOROLA Edge 60 Pro (Pantone Sparkling Grape, 256 GB)', 'Infinix Note 50s 5G+ (Burgundy Red, 256 GB)', 'Samsung Galaxy A35 5G (Awesome Lilac, 256 GB)', 'Infinix Note 50s 5G+ (Marine Drift, 256 GB)', 'Infinix Note 50s 5G+ (Titanium Grey, 256 GB)', 'Infinix Note 50s 5G+ (Marine Drift, 128 GB)']\n",
      "24\n"
     ]
    }
   ],
   "source": [
    "print(Product_name)\n",
    "print(len(Product_name))"
   ]
  },
  {
   "cell_type": "code",
   "execution_count": 9,
   "id": "dbe6eb5e-5111-4dff-999f-b8f6037486bf",
   "metadata": {},
   "outputs": [],
   "source": [
    "Price = soup.find_all('div', class_ = \"Nx9bqj _4b5DiR\")\n",
    "for p in Price:\n",
    "    pri = p.text\n",
    "    Prices.append(pri)"
   ]
  },
  {
   "cell_type": "code",
   "execution_count": 10,
   "id": "e101db15-cc89-475d-9930-8436c159982e",
   "metadata": {},
   "outputs": [
    {
     "name": "stdout",
     "output_type": "stream",
     "text": [
      "['₹26,999', '₹35,999', '₹41,999', '₹13,885', '₹10,499', '₹16,999', '₹16,649', '₹25,999', '₹11,999', '₹11,999', '₹13,788', '₹10,999', '₹11,999', '₹15,149', '₹16,600', '₹41,999', '₹13,999', '₹79,999', '₹33,999', '₹17,999', '₹21,999', '₹17,999', '₹17,999', '₹15,999']\n",
      "24\n"
     ]
    }
   ],
   "source": [
    "print(Prices)\n",
    "print(len(Prices))"
   ]
  },
  {
   "cell_type": "code",
   "execution_count": 11,
   "id": "d2b3e5c6-7b42-41ed-8fa5-8e34705422e9",
   "metadata": {},
   "outputs": [],
   "source": [
    "desc = soup.find_all('ul', class_ = \"G4BRas\")\n",
    "for d in desc:\n",
    "    des = d.text\n",
    "    Description.append(des)"
   ]
  },
  {
   "cell_type": "code",
   "execution_count": 12,
   "id": "292b49f4-bf0d-495c-88e0-bea9ddf8d104",
   "metadata": {},
   "outputs": [
    {
     "name": "stdout",
     "output_type": "stream",
     "text": [
      "['8 GB RAM | 256 GB ROM43.66 cm (17.19 cm) Full HD+ Display50MP (Main) + 50MP (2X Tele Photo) + 8MP (Ultra-Wide) | 32MP Front Camera5000 mAh Battery7s Gen3 Processor1 Year Manufacturing Warranty', '8 GB RAM | 128 GB ROM17.02 cm (6.7 inch) Full HD+ Display50MP + 12MP | 10MP Front Camera4700 mAh BatteryExynos 2400e Processor1 Year Manufacturer Warranty for Device and 6 Months for In-Box Accessories', '8 GB RAM | 256 GB ROM17.02 cm (6.7 inch) Full HD+ Display50MP + 12MP | 10MP Front Camera4700 mAh BatteryExynos 2400e Processor1 Year Manufacturer Warranty for Device and 6 Months for In-Box Accessories', '6 GB RAM | 128 GB ROM17.02 cm (6.7 inch) Display50MP Rear Camera6500 mAh Battery1 Year Warranty on Handset and 6 Months Warranty on Accessories', '8 GB RAM | 128 GB ROM | Expandable Upto 1 TB17.48 cm (6.88 inch) HD+ Display50MP Rear Camera | 8MP Front Camera5160 mAh Battery4 Gen 2 5G Processor1 Year Manufacturer Warranty for Phone and 6 Months Warranty for In the Box Accessories', '8 GB RAM | 128 GB ROM16.94 cm (6.67 inch) Display50MP + 8MP + 2MP | 20MP Front Camera5500 mAh BatteryDimensity 7300 Ultra Processor1 Year Manufacturer Warranty for Phone and 6 Months Warranty for In the Box Accessories', '8 GB RAM | 256 GB ROM17.02 cm (6.7 inch) Display50MP Rear Camera6500 mAh Battery1 Year Warranty on Handset and 6 Months Warranty on Accessories', '12 GB RAM | 256 GB ROM | Expandable Upto 1 TB16.94 cm (6.67 inch) Display50MP + 50MP + 10MP | 50MP Front Camera5500 mAh BatteryDimensity 7400 Processor1 Year Warranty on Handset and 6 Months Warranty on Accessories', '6 GB RAM | 128 GB ROM16.91 cm (6.657 inch) Full HD+ Display50MP + 5MP + 2MP | 13MP Front Camera5000 mAh BatteryDimensity 6300 Processor1 Year Manufacturer Warranty for Device and 6 Months for In-Box Accessories', '6 GB RAM | 128 GB ROM | Expandable Upto 1 TB16.94 cm (6.67 inch) Display108MP Rear Camera | 8MP Front Camera5000 mAh BatteryDimensity 6300 5G Processor1 Year Manufacturer Warranty for Phone', '6 GB RAM | 128 GB ROM17.02 cm (6.7 inch) Display50MP Rear Camera6500 mAh Battery1 Year on Handset and 6 Months on Accessories', '4 GB RAM | 128 GB ROM | Expandable Upto 1 TB16.51 cm (6.5 inch) HD+ Display50MP + 2MP | 16MP Front Camera5000 mAh BatterySnapdragon 6s Gen 3 Processor1 Year Warranty on Handset and 6 Months Warranty on Accessories', '6 GB RAM | 128 GB ROM16.91 cm (6.657 inch) Full HD+ Display50MP + 5MP + 2MP | 13MP Front Camera5000 mAh BatteryDimensity 6300 Processor1 Year Manufacturer Warranty for Device and 6 Months for In-Box Accessories', '8 GB RAM | 128 GB ROM17.02 cm (6.7 inch) Display50MP Rear Camera6500 mAh Battery1 Year on Handset and 6 Months on Accessories', '8 GB RAM | 256 GB ROM17.02 cm (6.7 inch) Display50MP Rear Camera6500 mAh Battery1 Year on Handset and 6 Months on Accessories', '8 GB RAM | 256 GB ROM17.02 cm (6.7 inch) Full HD+ Display50MP + 12MP | 10MP Front Camera4700 mAh BatteryExynos 2400e Processor1 Year Manufacturer Warranty for Device and 6 Months for In-Box Accessories', '8 GB RAM | 128 GB ROM | Expandable Upto 1 TB16.51 cm (6.5 inch) Full HD+ Display50MP (OIS) + 8MP | 16MP Front Camera6000 mAh BatteryDimensity 7025 Processor1 Year on Handset and 6 Months on Accessories', '128 GB ROM17.02 cm (6.7 inch) Super Retina XDR Display48MP + 12MP | 12MP Front CameraA18 Chip, 6 Core Processor Processor1 year warranty for phone and 1 year warranty for in Box Accessories.', '12 GB RAM | 256 GB ROM17.02 cm (6.7 inch) Display50MP + 50MP + 10MP | 50MP Front Camera6000 mAh BatteryDimensity 8350 Processor1 Year Warranty on Handset and 6 Months Warranty on Accessories', '8 GB RAM | 256 GB ROM17.22 cm (6.78 inch) Full HD+ Display64MP + 2MP | 13MP Front Camera5500 mAh BatteryDimensity 7300 Ultimate Processor1 Year Warranty for Handset and 6 Months Warranty for Accessories', '8 GB RAM | 256 GB ROM | Expandable Upto 1 TB16.76 cm (6.6 inch) Full HD+ Display50MP + 8MP + 5MP | 13MP Front Camera5000 mAh BatteryExynos 1380 Processor1 Year Manufacturer Warranty for Device and 6 Months for In-Box Accessories', '8 GB RAM | 256 GB ROM17.22 cm (6.78 inch) Full HD+ Display64MP + 2MP | 13MP Front Camera5500 mAh BatteryDimensity 7300 Ultimate Processor1 Year Warranty for Handset and 6 Months Warranty for Accessories', '8 GB RAM | 256 GB ROM17.22 cm (6.78 inch) Full HD+ Display64MP + 2MP | 13MP Front Camera5500 mAh BatteryDimensity 7300 Ultimate Processor1 Year Warranty for Handset and 6 Months Warranty for Accessories', '8 GB RAM | 128 GB ROM17.22 cm (6.78 inch) Full HD+ Display64MP + 2MP | 13MP Front Camera5500 mAh BatteryDimensity 7300 Ultimate Processor1 Year Warranty for Handset and 6 Months Warranty for Accessories']\n",
      "24\n"
     ]
    }
   ],
   "source": [
    "print(Description)\n",
    "print(len(Description))"
   ]
  },
  {
   "cell_type": "code",
   "execution_count": 13,
   "id": "00fd1407-cf69-4186-8933-edf4bc2e8885",
   "metadata": {},
   "outputs": [],
   "source": [
    "main_part = soup.find('div', class_ = \"DOjaWF gdgoEp\")\n",
    "rev = main_part.find_all('div', class_ = \"XQDdHH\")\n",
    "for r in rev:\n",
    "    re = r.text\n",
    "    Reviews.append(re)"
   ]
  },
  {
   "cell_type": "code",
   "execution_count": 14,
   "id": "a74878b1-5574-4468-be21-d41334fa350c",
   "metadata": {},
   "outputs": [
    {
     "name": "stdout",
     "output_type": "stream",
     "text": [
      "['4.5', '4.5', '4.5', '4.4', '4.2', '4.3', '4.4', '4.5', '4.2', '4.3', '4.4', '4.3', '4.2', '4.4', '4.4', '4.5', '4.3', '4.6', '4.4', '4.4', '4.3', '4.4', '4.4', '4.4']\n",
      "24\n"
     ]
    }
   ],
   "source": [
    "print(Reviews)\n",
    "print(len(Reviews))"
   ]
  },
  {
   "cell_type": "code",
   "execution_count": null,
   "id": "c5462734-01fb-4e7c-9758-aebe8ccd8a64",
   "metadata": {},
   "outputs": [],
   "source": []
  }
 ],
 "metadata": {
  "kernelspec": {
   "display_name": "Python 3 (ipykernel)",
   "language": "python",
   "name": "python3"
  },
  "language_info": {
   "codemirror_mode": {
    "name": "ipython",
    "version": 3
   },
   "file_extension": ".py",
   "mimetype": "text/x-python",
   "name": "python",
   "nbconvert_exporter": "python",
   "pygments_lexer": "ipython3",
   "version": "3.10.11"
  }
 },
 "nbformat": 4,
 "nbformat_minor": 5
}
